{
 "cells": [
  {
   "cell_type": "code",
   "execution_count": 1,
   "metadata": {},
   "outputs": [],
   "source": [
    "import pandas as pd"
   ]
  },
  {
   "cell_type": "code",
   "execution_count": 2,
   "metadata": {},
   "outputs": [],
   "source": [
    "data = pd.read_excel(\"data/doc_clusters.xlsx\")"
   ]
  },
  {
   "cell_type": "code",
   "execution_count": 3,
   "metadata": {},
   "outputs": [
    {
     "name": "stdout",
     "output_type": "stream",
     "text": [
      "{4: 0.46084803466419066, 7: 0.15183269222266438, 2: 0.09875315028518371, 6: 0.08776583985497635, 3: 0.08734580183048149, 1: 0.0387098200468674, 5: 0.037936065791219, 0: 0.03680859530441703}\n"
     ]
    }
   ],
   "source": [
    "n_cluster = len(data.cluster.value_counts())\n",
    "cluster_w = {}\n",
    "for index, value in data.cluster.value_counts().items():\n",
    "    cluster_w[index] = (value / 45234)\n",
    "print(cluster_w)"
   ]
  },
  {
   "cell_type": "code",
   "execution_count": 4,
   "metadata": {},
   "outputs": [],
   "source": [
    "ann_1 = pd.read_excel(\"data/annotation/Annotation_Pedram.xlsx\")\n",
    "ann_2 = pd.read_excel(\"data/annotation/Annotation_Poorya.xlsx\")"
   ]
  },
  {
   "cell_type": "code",
   "execution_count": 5,
   "metadata": {},
   "outputs": [],
   "source": [
    "# normalizing labels\n",
    "ann_2.loc[ann_2['label'] == 'blame', 'label'] = \"complaint\"\n",
    "ann_1.loc[ann_1['label'] == 'sarcasm', 'label'] = \"satire\"\n",
    "ann_1.loc[ann_1['label'] == 'report', 'label'] = \"news\""
   ]
  },
  {
   "cell_type": "code",
   "execution_count": 6,
   "metadata": {},
   "outputs": [],
   "source": [
    "final_w = {\"satire\": 0, \"news\": 0, \"opinion\": 0, \"complaint\": 0, \"solution\": 0, \"other\": 0}\n",
    "for i in range(n_cluster):\n",
    "    labels = {\"satire\": 0, \"news\": 0, \"opinion\": 0, \"complaint\": 0, \"solution\": 0, \"other\": 0}\n",
    "    # annotator #1\n",
    "    for index, row in ann_1.iterrows():\n",
    "        if row[\"label\"] in labels:\n",
    "            labels[row[\"label\"]] += 1\n",
    "        else:\n",
    "            labels[\"other\"] += 1\n",
    "\n",
    "    # annotator #2\n",
    "    for index, row in ann_2.iterrows():\n",
    "        if row[\"label\"] in labels:\n",
    "            labels[row[\"label\"]] += 1\n",
    "        else:\n",
    "            labels[\"other\"] += 1\n",
    "\n",
    "    for key, value in labels.items():\n",
    "        final_w[key] += (value / 60) * cluster_w[i]"
   ]
  },
  {
   "cell_type": "code",
   "execution_count": 8,
   "metadata": {},
   "outputs": [
    {
     "data": {
      "text/plain": [
       "{'satire': 1.7166666666666666,\n",
       " 'news': 2.1666666666666665,\n",
       " 'opinion': 2.35,\n",
       " 'complaint': 0.8833333333333333,\n",
       " 'solution': 0.5833333333333334,\n",
       " 'other': 0.30000000000000004}"
      ]
     },
     "execution_count": 8,
     "metadata": {},
     "output_type": "execute_result"
    }
   ],
   "source": [
    "final_w"
   ]
  }
 ],
 "metadata": {
  "kernelspec": {
   "display_name": "Python 3",
   "language": "python",
   "name": "python3"
  },
  "language_info": {
   "codemirror_mode": {
    "name": "ipython",
    "version": 3
   },
   "file_extension": ".py",
   "mimetype": "text/x-python",
   "name": "python",
   "nbconvert_exporter": "python",
   "pygments_lexer": "ipython3",
   "version": "3.7.6"
  }
 },
 "nbformat": 4,
 "nbformat_minor": 4
}
