{
 "cells": [
  {
   "cell_type": "code",
   "execution_count": 33,
   "metadata": {},
   "outputs": [],
   "source": [
    "import pandas as pd\n",
    "data = pd.read_excel(\"data/doc_clusters.xlsx\")"
   ]
  },
  {
   "cell_type": "code",
   "execution_count": 34,
   "metadata": {},
   "outputs": [
    {
     "data": {
      "text/html": [
       "<div>\n",
       "<style scoped>\n",
       "    .dataframe tbody tr th:only-of-type {\n",
       "        vertical-align: middle;\n",
       "    }\n",
       "\n",
       "    .dataframe tbody tr th {\n",
       "        vertical-align: top;\n",
       "    }\n",
       "\n",
       "    .dataframe thead th {\n",
       "        text-align: right;\n",
       "    }\n",
       "</style>\n",
       "<table border=\"1\" class=\"dataframe\">\n",
       "  <thead>\n",
       "    <tr style=\"text-align: right;\">\n",
       "      <th></th>\n",
       "      <th>Unnamed: 0</th>\n",
       "      <th>doc</th>\n",
       "      <th>cluster</th>\n",
       "    </tr>\n",
       "  </thead>\n",
       "  <tbody>\n",
       "    <tr>\n",
       "      <th>0</th>\n",
       "      <td>0</td>\n",
       "      <td>سردرد حالت تهوع سرفه این روزا با اینا سر گرمم ...</td>\n",
       "      <td>2</td>\n",
       "    </tr>\n",
       "    <tr>\n",
       "      <th>1</th>\n",
       "      <td>1</td>\n",
       "      <td>IranPressNews : ايران پرس نيوز: دستور خامنه‌ای...</td>\n",
       "      <td>4</td>\n",
       "    </tr>\n",
       "    <tr>\n",
       "      <th>2</th>\n",
       "      <td>2</td>\n",
       "      <td>ابتلای همزمان ۳۷ مسوول به #کرونا گویا تست کرون...</td>\n",
       "      <td>4</td>\n",
       "    </tr>\n",
       "    <tr>\n",
       "      <th>3</th>\n",
       "      <td>3</td>\n",
       "      <td>یک شایعی را شنیدم که حسن روحانی کرونا گرفته</td>\n",
       "      <td>4</td>\n",
       "    </tr>\n",
       "    <tr>\n",
       "      <th>4</th>\n",
       "      <td>4</td>\n",
       "      <td>مرکز اداره بهداشت اوهایو: بیش از ۱۰۰ هزار مبتل...</td>\n",
       "      <td>3</td>\n",
       "    </tr>\n",
       "  </tbody>\n",
       "</table>\n",
       "</div>"
      ],
      "text/plain": [
       "   Unnamed: 0                                                doc  cluster\n",
       "0           0  سردرد حالت تهوع سرفه این روزا با اینا سر گرمم ...        2\n",
       "1           1  IranPressNews : ايران پرس نيوز: دستور خامنه‌ای...        4\n",
       "2           2  ابتلای همزمان ۳۷ مسوول به #کرونا گویا تست کرون...        4\n",
       "3           3        یک شایعی را شنیدم که حسن روحانی کرونا گرفته        4\n",
       "4           4  مرکز اداره بهداشت اوهایو: بیش از ۱۰۰ هزار مبتل...        3"
      ]
     },
     "execution_count": 34,
     "metadata": {},
     "output_type": "execute_result"
    }
   ],
   "source": [
    "data.head()"
   ]
  },
  {
   "cell_type": "code",
   "execution_count": 35,
   "metadata": {},
   "outputs": [
    {
     "data": {
      "text/plain": [
       "4    20846\n",
       "7     6868\n",
       "2     4467\n",
       "6     3970\n",
       "3     3951\n",
       "1     1751\n",
       "5     1716\n",
       "0     1665\n",
       "Name: cluster, dtype: int64"
      ]
     },
     "execution_count": 35,
     "metadata": {},
     "output_type": "execute_result"
    }
   ],
   "source": [
    "n_cluster = len(data.cluster.value_counts())\n",
    "data.cluster.value_counts()"
   ]
  },
  {
   "cell_type": "code",
   "execution_count": 37,
   "metadata": {},
   "outputs": [],
   "source": [
    "ann_data = pd.read_excel(\"data/annotation/Annotation_Pedram.xlsx\")"
   ]
  },
  {
   "cell_type": "code",
   "execution_count": 46,
   "metadata": {},
   "outputs": [
    {
     "name": "stdout",
     "output_type": "stream",
     "text": [
      "cluster  0\n",
      "opinion      11\n",
      "satire        9\n",
      "neutral       3\n",
      "news          3\n",
      "rumor         3\n",
      "complaint     1\n",
      "Name: label, dtype: int64\n",
      "================\n",
      "cluster  1\n",
      "opinion      11\n",
      "news          6\n",
      "satire        5\n",
      "blame         2\n",
      "solution      2\n",
      "neutral       1\n",
      "sarcasm       1\n",
      "political     1\n",
      "complaint     1\n",
      "Name: label, dtype: int64\n",
      "================\n",
      "cluster  2\n",
      "opinion        10\n",
      "sarcasm         8\n",
      "satire          3\n",
      "news            3\n",
      "solution        2\n",
      "complaint       2\n",
      "frustration     1\n",
      "blame           1\n",
      "Name: label, dtype: int64\n",
      "================\n",
      "cluster  3\n",
      "news       19\n",
      "satire      3\n",
      "opinion     3\n",
      "neutral     2\n",
      "blame       2\n",
      "sarcasm     1\n",
      "Name: label, dtype: int64\n",
      "================\n",
      "cluster  4\n",
      "opinion      18\n",
      "satire        5\n",
      "solution      2\n",
      "neutral       2\n",
      "blame         1\n",
      "news          1\n",
      "political     1\n",
      "Name: label, dtype: int64\n",
      "================\n",
      "cluster  5\n",
      "opinion      14\n",
      "blame         6\n",
      "news          3\n",
      "solution      3\n",
      "satire        2\n",
      "neutral       1\n",
      "complaint     1\n",
      "Name: label, dtype: int64\n",
      "================\n",
      "cluster  6\n",
      "opinion      11\n",
      "satire        7\n",
      "news          5\n",
      "solution      2\n",
      "complaint     2\n",
      "blame         1\n",
      "sarcasm       1\n",
      "neutral       1\n",
      "Name: label, dtype: int64\n",
      "================\n",
      "cluster  7\n",
      "news        11\n",
      "opinion      8\n",
      "solution     5\n",
      "blame        4\n",
      "sarcasm      1\n",
      "satire       1\n",
      "Name: label, dtype: int64\n",
      "================\n"
     ]
    }
   ],
   "source": [
    "n_cluster = len(ann_data.cluster.value_counts())\n",
    "for i in range(n_cluster):\n",
    "    print(\"cluster \", str(i))\n",
    "    samples = ann_data.loc[ann_data.cluster == i]\n",
    "    print(samples.label.value_counts())\n",
    "    print(\"================\")"
   ]
  },
  {
   "cell_type": "code",
   "execution_count": null,
   "metadata": {},
   "outputs": [],
   "source": []
  }
 ],
 "metadata": {
  "kernelspec": {
   "display_name": "Python 3",
   "language": "python",
   "name": "python3"
  },
  "language_info": {
   "codemirror_mode": {
    "name": "ipython",
    "version": 3
   },
   "file_extension": ".py",
   "mimetype": "text/x-python",
   "name": "python",
   "nbconvert_exporter": "python",
   "pygments_lexer": "ipython3",
   "version": "3.7.6"
  }
 },
 "nbformat": 4,
 "nbformat_minor": 4
}
