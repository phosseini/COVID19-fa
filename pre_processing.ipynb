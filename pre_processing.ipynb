{
 "cells": [
  {
   "cell_type": "code",
   "execution_count": 5,
   "metadata": {},
   "outputs": [
    {
     "name": "stdout",
     "output_type": "stream",
     "text": [
      "Requirement already satisfied: emoji in /Users/phosseini/anaconda3/envs/corona/lib/python3.7/site-packages (0.5.4)\r\n"
     ]
    }
   ],
   "source": [
    "!pip install emoji"
   ]
  },
  {
   "cell_type": "code",
   "execution_count": 1,
   "metadata": {},
   "outputs": [],
   "source": [
    "text = \"تلگرام توییتر اینستاگرام واتس آپ دوباره از اول 😐 اینم زندگی قرنطینه ای☹️ فقط و فقط خبرای مربوط ب کرونا و ی مشت چرت و پرت دیگه نه کسی حالتو میپرسه ن ی پی ام از کسی ک منتظرشی #لعنت_به_کرونا\""
   ]
  },
  {
   "cell_type": "code",
   "execution_count": 2,
   "metadata": {},
   "outputs": [
    {
     "name": "stdout",
     "output_type": "stream",
     "text": [
      "تلگرام توییتر اینستاگرام واتس آپ دوباره از اول 😐 اینم زندگی قرنطینه ای☹️ فقط و فقط خبرای مربوط ب کرونا و ی مشت چرت و پرت دیگه نه کسی حالتو میپرسه ن ی پی ام از کسی ک منتظرشی #لعنت_به_کرونا\n"
     ]
    }
   ],
   "source": [
    "print(text)"
   ]
  },
  {
   "cell_type": "code",
   "execution_count": 7,
   "metadata": {},
   "outputs": [],
   "source": [
    "import emoji\n",
    "def emoji_free_text(text):\n",
    "    return emoji.get_emoji_regexp().sub(r'', text)"
   ]
  },
  {
   "cell_type": "code",
   "execution_count": 8,
   "metadata": {},
   "outputs": [
    {
     "name": "stdout",
     "output_type": "stream",
     "text": [
      "تلگرام توییتر اینستاگرام واتس آپ دوباره از اول  اینم زندگی قرنطینه ای️ فقط و فقط خبرای مربوط ب کرونا و ی مشت چرت و پرت دیگه نه کسی حالتو میپرسه ن ی پی ام از کسی ک منتظرشی #لعنت_به_کرونا\n"
     ]
    }
   ],
   "source": [
    "print(emoji_free_text(text))"
   ]
  },
  {
   "cell_type": "code",
   "execution_count": 2,
   "metadata": {},
   "outputs": [
    {
     "ename": "SyntaxError",
     "evalue": "invalid character in identifier (<ipython-input-2-3c5a71bd781a>, line 1)",
     "output_type": "error",
     "traceback": [
      "\u001b[0;36m  File \u001b[0;32m\"<ipython-input-2-3c5a71bd781a>\"\u001b[0;36m, line \u001b[0;32m1\u001b[0m\n\u001b[0;31m    9️\u001b[0m\n\u001b[0m     ^\u001b[0m\n\u001b[0;31mSyntaxError\u001b[0m\u001b[0;31m:\u001b[0m invalid character in identifier\n"
     ]
    }
   ],
   "source": [
    "9️ | بیبینن #در_خانه_بمانیم #کرونا_را_شکست_میدهیم"
   ]
  },
  {
   "cell_type": "code",
   "execution_count": null,
   "metadata": {},
   "outputs": [],
   "source": []
  }
 ],
 "metadata": {
  "kernelspec": {
   "display_name": "Python 3",
   "language": "python",
   "name": "python3"
  },
  "language_info": {
   "codemirror_mode": {
    "name": "ipython",
    "version": 3
   },
   "file_extension": ".py",
   "mimetype": "text/x-python",
   "name": "python",
   "nbconvert_exporter": "python",
   "pygments_lexer": "ipython3",
   "version": "3.7.6"
  }
 },
 "nbformat": 4,
 "nbformat_minor": 4
}
