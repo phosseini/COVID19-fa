{
 "cells": [
  {
   "cell_type": "code",
   "execution_count": 5,
   "metadata": {},
   "outputs": [
    {
     "name": "stdout",
     "output_type": "stream",
     "text": [
      "Requirement already satisfied: emoji in /Users/phosseini/anaconda3/envs/corona/lib/python3.7/site-packages (0.5.4)\r\n"
     ]
    }
   ],
   "source": [
    "!pip install emoji"
   ]
  },
  {
   "cell_type": "code",
   "execution_count": 1,
   "metadata": {},
   "outputs": [],
   "source": [
    "text = \"تلگرام توییتر اینستاگرام واتس آپ دوباره از اول 😐 اینم زندگی قرنطینه ای☹️ فقط و فقط خبرای مربوط ب کرونا و ی مشت چرت و پرت دیگه نه کسی حالتو میپرسه ن ی پی ام از کسی ک منتظرشی #لعنت_به_کرونا\""
   ]
  },
  {
   "cell_type": "code",
   "execution_count": 2,
   "metadata": {},
   "outputs": [
    {
     "name": "stdout",
     "output_type": "stream",
     "text": [
      "تلگرام توییتر اینستاگرام واتس آپ دوباره از اول 😐 اینم زندگی قرنطینه ای☹️ فقط و فقط خبرای مربوط ب کرونا و ی مشت چرت و پرت دیگه نه کسی حالتو میپرسه ن ی پی ام از کسی ک منتظرشی #لعنت_به_کرونا\n"
     ]
    }
   ],
   "source": [
    "print(text)"
   ]
  },
  {
   "cell_type": "code",
   "execution_count": 7,
   "metadata": {},
   "outputs": [],
   "source": [
    "import emoji\n",
    "def emoji_free_text(text):\n",
    "    return emoji.get_emoji_regexp().sub(r'', text)"
   ]
  },
  {
   "cell_type": "code",
   "execution_count": 8,
   "metadata": {},
   "outputs": [
    {
     "name": "stdout",
     "output_type": "stream",
     "text": [
      "تلگرام توییتر اینستاگرام واتس آپ دوباره از اول  اینم زندگی قرنطینه ای️ فقط و فقط خبرای مربوط ب کرونا و ی مشت چرت و پرت دیگه نه کسی حالتو میپرسه ن ی پی ام از کسی ک منتظرشی #لعنت_به_کرونا\n"
     ]
    }
   ],
   "source": [
    "print(emoji_free_text(text))"
   ]
  },
  {
   "cell_type": "code",
   "execution_count": 15,
   "metadata": {},
   "outputs": [],
   "source": [
    "from __future__ import unicode_literals\n",
    "from hazm import *\n",
    "\n",
    "docs = [\"توسل به تئوری #توهم_توطئه چشمانمان را بر واقعیت می‌بندد و از مدیریت درست بحران جلوگیری می‌کند #کرونا #جنگ_بیولژولیک\"]\n",
    "\n",
    "\n",
    "def hazm_docs(docs):\n",
    "    normalizer = Normalizer()\n",
    "    stemmer = Stemmer()\n",
    "    lemmatizer = Lemmatizer()\n",
    "    processed_docs = []\n",
    "\n",
    "\n",
    "    for doc in docs:\n",
    "        normalized_doc = normalizer.normalize(doc)\n",
    "        doc_sents = sent_tokenize(normalized_doc)\n",
    "        words = []\n",
    "        for sent in doc_sents:\n",
    "            words.extend(word_tokenize(sent))\n",
    "\n",
    "        words_stem = [stemmer.stem(t) for t in words]\n",
    "        words_lemm = [lemmatizer.lemmatize(t) for t in words_stem]\n",
    "\n",
    "        processed_docs.append(\" \".join(words_lemm))\n",
    "    \n",
    "    return processed_docs"
   ]
  },
  {
   "cell_type": "code",
   "execution_count": 16,
   "metadata": {},
   "outputs": [
    {
     "data": {
      "text/plain": [
       "['توسل به تئور #توهم_توطئه چشمان را بر واقع بست#بند و از مدیر درس بحر جلوگیر کرد#کن #کرونا #جنگ_بیولژولیک']"
      ]
     },
     "execution_count": 16,
     "metadata": {},
     "output_type": "execute_result"
    }
   ],
   "source": [
    "hazm_docs(docs)"
   ]
  },
  {
   "cell_type": "code",
   "execution_count": 9,
   "metadata": {},
   "outputs": [
    {
     "data": {
      "text/plain": [
       "['توسل',\n",
       " 'به',\n",
       " 'تئوری',\n",
       " '#توهم_توطئه',\n",
       " 'چشمانمان',\n",
       " 'را',\n",
       " 'بر',\n",
       " 'واقعیت',\n",
       " 'می\\u200cبندد',\n",
       " 'و',\n",
       " 'از',\n",
       " 'مدیریت',\n",
       " 'درست',\n",
       " 'بحران',\n",
       " 'جلوگیری',\n",
       " 'می\\u200cکند',\n",
       " '#کرونا',\n",
       " '#جنگ_بیولژولیک']"
      ]
     },
     "execution_count": 9,
     "metadata": {},
     "output_type": "execute_result"
    }
   ],
   "source": [
    "words"
   ]
  },
  {
   "cell_type": "code",
   "execution_count": null,
   "metadata": {},
   "outputs": [],
   "source": []
  }
 ],
 "metadata": {
  "kernelspec": {
   "display_name": "corona",
   "language": "python",
   "name": "corona"
  },
  "language_info": {
   "codemirror_mode": {
    "name": "ipython",
    "version": 3
   },
   "file_extension": ".py",
   "mimetype": "text/x-python",
   "name": "python",
   "nbconvert_exporter": "python",
   "pygments_lexer": "ipython3",
   "version": "3.7.6"
  }
 },
 "nbformat": 4,
 "nbformat_minor": 4
}
