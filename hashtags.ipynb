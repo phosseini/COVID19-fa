{
 "cells": [
  {
   "cell_type": "code",
   "execution_count": 8,
   "metadata": {},
   "outputs": [],
   "source": [
    "x = '''\n",
    "#کرونا,\n",
    "#کروناویروس,\n",
    "#coronavirus #Iran,\n",
    "#COVID19 #Iran,\n",
    "#AyatollahsSpreadCOVID19, \n",
    "#کرونا_از_آمریکا,\n",
    "#در_خانه_بمانیم,\n",
    "#کارزار_کرونا,\n",
    "کرونا, \n",
    "#قرنطینه_خانگی,\n",
    "#ویروس_کرونا'''"
   ]
  },
  {
   "cell_type": "code",
   "execution_count": 9,
   "metadata": {},
   "outputs": [
    {
     "name": "stdout",
     "output_type": "stream",
     "text": [
      "\n",
      "#کرونا,\n",
      "#کروناویروس,\n",
      "#coronavirus #Iran,\n",
      "#COVID19 #Iran,\n",
      "#AyatollahsSpreadCOVID19, \n",
      "#کرونا_از_آمریکا,\n",
      "#در_خانه_بمانیم,\n",
      "#کارزار_کرونا,\n",
      "کرونا, \n",
      "#قرنطینه_خانگی,\n",
      "#ویروس_کرونا\n"
     ]
    }
   ],
   "source": [
    "print(x)"
   ]
  },
  {
   "cell_type": "code",
   "execution_count": 10,
   "metadata": {},
   "outputs": [],
   "source": [
    "x = x.split(',')"
   ]
  },
  {
   "cell_type": "code",
   "execution_count": 11,
   "metadata": {},
   "outputs": [],
   "source": [
    "a = []\n",
    "for item in x:\n",
    "    a.append(item.replace('\\n','').replace('\\r', '').strip())"
   ]
  },
  {
   "cell_type": "code",
   "execution_count": 12,
   "metadata": {},
   "outputs": [
    {
     "name": "stdout",
     "output_type": "stream",
     "text": [
      "#کرونا,#کروناویروس,#coronavirus #Iran,#COVID19 #Iran,#AyatollahsSpreadCOVID19,#کرونا_از_آمریکا,#در_خانه_بمانیم,#کارزار_کرونا,کرونا,#قرنطینه_خانگی,#ویروس_کرونا\n"
     ]
    }
   ],
   "source": [
    "res = \"\"\n",
    "for i in range(len(a)):\n",
    "    if i != len(a) - 1:\n",
    "        res = res + a[i] + \",\"\n",
    "    else:\n",
    "        res = res + a[i]\n",
    "with open(\"tags.txt\",\"a\") as file:\n",
    "    file.write(res)\n",
    "print(res)"
   ]
  },
  {
   "cell_type": "code",
   "execution_count": null,
   "metadata": {},
   "outputs": [],
   "source": []
  }
 ],
 "metadata": {
  "kernelspec": {
   "display_name": "Python 3",
   "language": "python",
   "name": "python3"
  },
  "language_info": {
   "codemirror_mode": {
    "name": "ipython",
    "version": 3
   },
   "file_extension": ".py",
   "mimetype": "text/x-python",
   "name": "python",
   "nbconvert_exporter": "python",
   "pygments_lexer": "ipython3",
   "version": "3.7.2"
  }
 },
 "nbformat": 4,
 "nbformat_minor": 2
}
