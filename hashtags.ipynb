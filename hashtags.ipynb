{
 "cells": [
  {
   "cell_type": "markdown",
   "metadata": {},
   "source": [
    "## List of COVID-19 related twitter hashtags\n",
    "In this notebook, we list and process COVID-19 related hashtags in Persian tweets."
   ]
  },
  {
   "cell_type": "code",
   "execution_count": 1,
   "metadata": {},
   "outputs": [],
   "source": [
    "all_tags = '''\n",
    "#کرونا,\n",
    "#کروناویروس,\n",
    "#coronavirus #Iran,\n",
    "#COVID19 #Iran,\n",
    "#AyatollahsSpreadCOVID19, \n",
    "#کرونا_از_آمریکا,\n",
    "#در_خانه_بمانیم,\n",
    "#کارزار_کرونا,\n",
    "کرونا, \n",
    "#قرنطینه_خانگی,\n",
    "#کرونا_را_جدی_بگیریم,\n",
    "#ويروس_چينى,\n",
    "#کرونا_ویروس,\n",
    "#قرنطینه,\n",
    "#ویروس_کرونا'''\n",
    "\n",
    "persian_tags = '''\n",
    "#کرونا,\n",
    "#کروناویروس,\n",
    "#کرونا_از_آمریکا,\n",
    "#در_خانه_بمانیم,\n",
    "#کارزار_کرونا,\n",
    "کرونا,\n",
    "#قرنطینه_خانگی,\n",
    "#کرونا_را_جدی_بگیریم,\n",
    "#ويروس_چينى,\n",
    "#کرونا_ویروس,\n",
    "#قرنطینه,\n",
    "#ویروس_کرونا'''"
   ]
  },
  {
   "cell_type": "code",
   "execution_count": 2,
   "metadata": {},
   "outputs": [
    {
     "name": "stdout",
     "output_type": "stream",
     "text": [
      "\n",
      "#کرونا,\n",
      "#کروناویروس,\n",
      "#کرونا_از_آمریکا,\n",
      "#در_خانه_بمانیم,\n",
      "#کارزار_کرونا,\n",
      "کرونا,\n",
      "#قرنطینه_خانگی,\n",
      "#کرونا_را_جدی_بگیریم,\n",
      "#ويروس_چينى,\n",
      "#کرونا_ویروس,\n",
      "#قرنطینه,\n",
      "#ویروس_کرونا\n"
     ]
    }
   ],
   "source": [
    "print(persian_tags)"
   ]
  },
  {
   "cell_type": "code",
   "execution_count": 3,
   "metadata": {},
   "outputs": [],
   "source": [
    "x = persian_tags\n",
    "x = x.split(',')"
   ]
  },
  {
   "cell_type": "code",
   "execution_count": 4,
   "metadata": {},
   "outputs": [],
   "source": [
    "a = []\n",
    "for item in x:\n",
    "    a.append(item.replace('\\n','').replace('\\r', '').strip())"
   ]
  },
  {
   "cell_type": "code",
   "execution_count": 5,
   "metadata": {},
   "outputs": [
    {
     "name": "stdout",
     "output_type": "stream",
     "text": [
      "#کرونا,#کروناویروس,#کرونا_از_آمریکا,#در_خانه_بمانیم,#کارزار_کرونا,کرونا,#قرنطینه_خانگی,#کرونا_را_جدی_بگیریم,#ويروس_چينى,#کرونا_ویروس,#قرنطینه,#ویروس_کرونا\n"
     ]
    }
   ],
   "source": [
    "res = \"\"\n",
    "for i in range(len(a)):\n",
    "    if i != len(a) - 1:\n",
    "        res = res + a[i] + \",\"\n",
    "    else:\n",
    "        res = res + a[i]\n",
    "with open(\"tags.txt\",\"a\") as file:\n",
    "    file.write(res)\n",
    "print(res)"
   ]
  },
  {
   "cell_type": "code",
   "execution_count": null,
   "metadata": {},
   "outputs": [],
   "source": []
  }
 ],
 "metadata": {
  "kernelspec": {
   "display_name": "Python 3",
   "language": "python",
   "name": "python3"
  },
  "language_info": {
   "codemirror_mode": {
    "name": "ipython",
    "version": 3
   },
   "file_extension": ".py",
   "mimetype": "text/x-python",
   "name": "python",
   "nbconvert_exporter": "python",
   "pygments_lexer": "ipython3",
   "version": "3.7.6"
  }
 },
 "nbformat": 4,
 "nbformat_minor": 2
}
