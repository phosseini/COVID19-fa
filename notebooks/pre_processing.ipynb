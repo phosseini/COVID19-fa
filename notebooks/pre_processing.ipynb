{
 "cells": [
  {
   "cell_type": "markdown",
   "metadata": {},
   "source": [
    "## Preprocessing\n",
    "In this notebook, we show the preprocessing steps on tweets before doing any analysis (e.g. topic modeling.)"
   ]
  },
  {
   "cell_type": "code",
   "execution_count": 1,
   "metadata": {},
   "outputs": [],
   "source": [
    "import os\n",
    "import sys\n",
    "\n",
    "# adding classes folder to system path\n",
    "sys.path.insert(0, os.path.abspath('..') + '/src')\n",
    "\n",
    "from pre_processing import PreProcessing\n",
    "from pre_processing import hazm_docs\n",
    "from pre_processing import emoji_free_text"
   ]
  },
  {
   "cell_type": "markdown",
   "metadata": {},
   "source": [
    "### Step [1]: Preprocessing raw `json`/`excel` files\n",
    "\n",
    "Tweets that we collect in real-time using the [Social Feed Manager (SFM) tool](https://gwu-libraries.github.io/sfm-ui/) can be downloaded as either `json` or `excel` files. These files should be placed in the following path: `data/input`.\n",
    "\n",
    "In the first step, we preprocess these json/excel files to create a cleaned tweet collection where we only keep a subset of fields for each tweet. Cleaned tweets will be put in the `data/cleaned` folder in excel (.xlsx) format."
   ]
  },
  {
   "cell_type": "code",
   "execution_count": null,
   "metadata": {},
   "outputs": [],
   "source": [
    "# `save_checkpoint` specifies the number of records in each cleaned excel file to avoid having very large files\n",
    "# WARNING: depending on how many files/tweets we have, running this cell can take a few hours\n",
    "PreProcessing().clean_data_json(save_checkpoint=150000)"
   ]
  },
  {
   "cell_type": "markdown",
   "metadata": {},
   "source": [
    "### Testing preprocessing methods on Farsi text"
   ]
  },
  {
   "cell_type": "code",
   "execution_count": 2,
   "metadata": {},
   "outputs": [],
   "source": [
    "text = \"تلگرام توییتر اینستاگرام واتس آپ دوباره از اول 😐 اینم زندگی قرنطینه ای☹️ فقط و فقط خبرای مربوط ب کرونا و ی مشت چرت و پرت دیگه نه کسی حالتو میپرسه ن ی پی ام از کسی ک منتظرشی #لعنت_به_کرونا\"\n",
    "docs = [\"توسل به تئوری #توهم_توطئه چشمانمان را بر واقعیت می‌بندد و از مدیریت درست بحران جلوگیری می‌کند #کرونا #جنگ_بیولژولیک\"]"
   ]
  },
  {
   "cell_type": "code",
   "execution_count": 5,
   "metadata": {},
   "outputs": [
    {
     "name": "stdout",
     "output_type": "stream",
     "text": [
      "تلگرام توییتر اینستاگرام واتس آپ دوباره از اول 😐 اینم زندگی قرنطینه ای☹️ فقط و فقط خبرای مربوط ب کرونا و ی مشت چرت و پرت دیگه نه کسی حالتو میپرسه ن ی پی ام از کسی ک منتظرشی #لعنت_به_کرونا\n"
     ]
    },
    {
     "data": {
      "text/plain": [
       "'تلگرام توییتر اینستاگرام واتس آپ دوباره از اول  اینم زندگی قرنطینه ای️ فقط و فقط خبرای مربوط ب کرونا و ی مشت چرت و پرت دیگه نه کسی حالتو میپرسه ن ی پی ام از کسی ک منتظرشی #لعنت_به_کرونا'"
      ]
     },
     "execution_count": 5,
     "metadata": {},
     "output_type": "execute_result"
    }
   ],
   "source": [
    "# removing emojis\n",
    "print(text) # before removing emojis\n",
    "emoji_free_text(text) # after removing emojis"
   ]
  },
  {
   "cell_type": "code",
   "execution_count": 7,
   "metadata": {},
   "outputs": [],
   "source": [
    "# preprocessing documents using hazm\n",
    "docs = hazm_docs(docs[0])"
   ]
  },
  {
   "cell_type": "code",
   "execution_count": 8,
   "metadata": {},
   "outputs": [
    {
     "data": {
      "text/plain": [
       "'توسل به تئوری #توهم_توطئه چشمانمان را بر واقعیت می\\u200cبندد و از مدیریت درست بحران جلوگیری می\\u200cکند #کرونا #جنگ_بیولژولیک'"
      ]
     },
     "execution_count": 8,
     "metadata": {},
     "output_type": "execute_result"
    }
   ],
   "source": [
    "docs"
   ]
  },
  {
   "cell_type": "code",
   "execution_count": null,
   "metadata": {},
   "outputs": [],
   "source": []
  }
 ],
 "metadata": {
  "kernelspec": {
   "display_name": "corona",
   "language": "python",
   "name": "corona"
  },
  "language_info": {
   "codemirror_mode": {
    "name": "ipython",
    "version": 3
   },
   "file_extension": ".py",
   "mimetype": "text/x-python",
   "name": "python",
   "nbconvert_exporter": "python",
   "pygments_lexer": "ipython3",
   "version": "3.7.6"
  }
 },
 "nbformat": 4,
 "nbformat_minor": 4
}
