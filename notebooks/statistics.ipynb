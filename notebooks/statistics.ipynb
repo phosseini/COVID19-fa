{
 "cells": [
  {
   "cell_type": "markdown",
   "metadata": {},
   "source": [
    "## Iran's COVID-19 Statistics"
   ]
  },
  {
   "cell_type": "code",
   "execution_count": 1,
   "metadata": {},
   "outputs": [],
   "source": [
    "import os\n",
    "import sys\n",
    "\n",
    "# adding classes folder to system path\n",
    "sys.path.insert(0, os.path.abspath('..') + '/src')\n",
    "\n",
    "import copy\n",
    "import pandas as pd\n",
    "import matplotlib.pyplot as plt\n",
    "\n",
    "from matplotlib.lines import Line2D\n",
    "\n",
    "from data_loader import DataReader"
   ]
  },
  {
   "cell_type": "code",
   "execution_count": 2,
   "metadata": {},
   "outputs": [],
   "source": [
    "# input json files of tweets are needed for running this cell\n",
    "df = DataReader().tweets_count_by_day()"
   ]
  },
  {
   "cell_type": "markdown",
   "metadata": {},
   "source": [
    "## `Report 1` : Iran's Ministry of Health and Medical Education"
   ]
  },
  {
   "cell_type": "code",
   "execution_count": 4,
   "metadata": {},
   "outputs": [],
   "source": [
    "cols = [\"date\", \"Confirmed cases\", \"Associated death\", \"Recovered\"]\n",
    "df_iran = pd.DataFrame(columns=cols)\n",
    "\n",
    "data_iran = [\n",
    "[\"03-13\", \"11364\", \"514\", \"3529\"],\n",
    "[\"03-14\", \"12729\", \"611\", \"4339\"],\n",
    "[\"03-15\", \"13938\", \"724\", \"4590\"],\n",
    "[\"03-16\", \"14991\", \"853\", \"4996\"],\n",
    "[\"03-17\", \"16169\", \"988\", \"5389\"],\n",
    "[\"03-18\", \"17361\", \"1135\", \"5710\"],\n",
    "[\"03-19\", \"18407\", \"1284\", \"5710\"],\n",
    "[\"03-20\", \"19644\", \"1433\", \"6745\"],\n",
    "[\"03-21\", \"20610\", \"1556\", \"7635\"],\n",
    "[\"03-22\", \"21638\", \"1685\", \"7635\"],\n",
    "[\"03-23\", \"23049\", \"1812\", \"8376\"],\n",
    "[\"03-24\", \"24811\", \"1934\", \"8931\"],\n",
    "[\"03-25\", \"27017\", \"2077\", \"9625\"],\n",
    "[\"03-26\", \"29406\", \"2234\", \"10457\"],\n",
    "[\"03-27\", \"32332\", \"2378\", \"11133\"],      \n",
    "[\"03-28\", \"35408\", \"2517\", \"11679\"],\n",
    "[\"03-29\", \"38309\", \"2640\", \"12391\"],\n",
    "[\"03-30\", \"41495\", \"2757\", \"13911\"],\n",
    "[\"03-31\", \"44605\", \"2898\", \"14656\"],\n",
    "[\"04-01\", \"47593\", \"3036\", \"15473\"],\n",
    "[\"04-02\", \"50468\", \"3160\", \"16711\"],\n",
    "[\"04-03\", \"53183\", \"3294\", \"17935\"],\n",
    "[\"04-04\", \"55743\", \"3452\", \"19736\"],\n",
    "[\"04-05\", \"58226\", \"3603\", \"22011\"],\n",
    "[\"04-06\", \"60500\", \"3739\", \"24236\"],\n",
    "[\"04-07\", \"62589\", \"3872\", \"27039\"],\n",
    "[\"04-08\", \"64586\", \"3993\", \"29812\"],\n",
    "[\"04-09\", \"66220\", \"4110\", \"32309\"],\n",
    "[\"04-10\", \"68192\", \"4232\", \"35465\"],\n",
    "[\"04-11\", \"70029\", \"4357\", \"41947\"],\n",
    "[\"04-12\", \"71686\", \"4474\", \"43894\"],\n",
    "[\"04-13\", \"73303\", \"4585\", \"45983\"],\n",
    "[\"04-14\", \"74877\", \"4683\", \"48129\"],\n",
    "[\"04-15\", \"76389\", \"4777\", \"49933\"],\n",
    "[\"04-16\", \"77995\", \"4869\", \"52229\"],\n",
    "[\"04-17\", \"79494\", \"4958\", \"54064\"],\n",
    "[\"04-18\", \"80868\", \"5031\", \"55987\"],\n",
    "[\"04-19\", \"82211\", \"5118\", \"57023\"]]\n",
    "\n",
    "for record in data_iran:\n",
    "    df_iran = df_iran.append({\"date\": record[0], \"Confirmed cases\": int(record[1]), \"Associated death\": int(record[2]), \"Recovered\": int(record[3])}, ignore_index=True)"
   ]
  },
  {
   "cell_type": "markdown",
   "metadata": {},
   "source": [
    "## `Report 2` : CSSE at Johns Hopkins University"
   ]
  },
  {
   "cell_type": "markdown",
   "metadata": {},
   "source": [
    "Numbers are extracted from: https://github.com/CSSEGISandData/COVID-19"
   ]
  },
  {
   "cell_type": "code",
   "execution_count": 2,
   "metadata": {},
   "outputs": [],
   "source": [
    "cols = [\"date\", \"Confirmed cases\", \"Associated death\", \"Recovered\"]\n",
    "df_iran = pd.DataFrame(columns=cols)\n",
    "\n",
    "df_confirmed = pd.read_csv('../data/reports/time_series_covid19_confirmed_global.csv')\n",
    "df_confirmed = df_confirmed.loc[df_confirmed['Country/Region'] == \"Iran\"]\n",
    "df_deaths = pd.read_csv('../data/reports/time_series_covid19_deaths_global.csv')\n",
    "df_deaths = df_deaths.loc[df_deaths['Country/Region'] == \"Iran\"]\n",
    "df_recovered = pd.read_csv('../data/reports/time_series_covid19_recovered_global.csv')\n",
    "df_recovered = df_recovered.loc[df_recovered['Country/Region'] == \"Iran\"]\n",
    "\n",
    "exclude = ['Province/State', 'Country/Region', 'Lat', 'Long']\n",
    "\n",
    "for idx, row in df_confirmed.iterrows():\n",
    "    for col_name, col_val in row.iteritems():\n",
    "        if col_name not in exclude:\n",
    "            try:\n",
    "                confirmed = int(col_val)\n",
    "                deaths = int(df_deaths.iloc[0][col_name])\n",
    "                recovered = int(df_recovered.iloc[0][col_name])\n",
    "                if confirmed != 0 or deaths != 0 or recovered != 0:\n",
    "                    df_iran = df_iran.append({\"date\": col_name, \"Confirmed cases\": int(col_val), \"Associated death\": deaths, \"Recovered\": recovered}, ignore_index=True)\n",
    "            except Exception as e:\n",
    "                print(e)\n",
    "                pass"
   ]
  },
  {
   "cell_type": "code",
   "execution_count": 3,
   "metadata": {},
   "outputs": [
    {
     "data": {
      "text/html": [
       "<div>\n",
       "<style scoped>\n",
       "    .dataframe tbody tr th:only-of-type {\n",
       "        vertical-align: middle;\n",
       "    }\n",
       "\n",
       "    .dataframe tbody tr th {\n",
       "        vertical-align: top;\n",
       "    }\n",
       "\n",
       "    .dataframe thead th {\n",
       "        text-align: right;\n",
       "    }\n",
       "</style>\n",
       "<table border=\"1\" class=\"dataframe\">\n",
       "  <thead>\n",
       "    <tr style=\"text-align: right;\">\n",
       "      <th></th>\n",
       "      <th>date</th>\n",
       "      <th>Confirmed cases</th>\n",
       "      <th>Associated death</th>\n",
       "      <th>Recovered</th>\n",
       "    </tr>\n",
       "  </thead>\n",
       "  <tbody>\n",
       "    <tr>\n",
       "      <th>418</th>\n",
       "      <td>4/12/21</td>\n",
       "      <td>2093452</td>\n",
       "      <td>64764</td>\n",
       "      <td>1720084</td>\n",
       "    </tr>\n",
       "    <tr>\n",
       "      <th>419</th>\n",
       "      <td>4/13/21</td>\n",
       "      <td>2118212</td>\n",
       "      <td>65055</td>\n",
       "      <td>1729293</td>\n",
       "    </tr>\n",
       "    <tr>\n",
       "      <th>420</th>\n",
       "      <td>4/14/21</td>\n",
       "      <td>2143794</td>\n",
       "      <td>65359</td>\n",
       "      <td>1739002</td>\n",
       "    </tr>\n",
       "    <tr>\n",
       "      <th>421</th>\n",
       "      <td>4/15/21</td>\n",
       "      <td>2168872</td>\n",
       "      <td>65680</td>\n",
       "      <td>1749041</td>\n",
       "    </tr>\n",
       "    <tr>\n",
       "      <th>422</th>\n",
       "      <td>4/16/21</td>\n",
       "      <td>2194133</td>\n",
       "      <td>66008</td>\n",
       "      <td>1761497</td>\n",
       "    </tr>\n",
       "    <tr>\n",
       "      <th>423</th>\n",
       "      <td>4/17/21</td>\n",
       "      <td>2215445</td>\n",
       "      <td>66327</td>\n",
       "      <td>1772688</td>\n",
       "    </tr>\n",
       "    <tr>\n",
       "      <th>424</th>\n",
       "      <td>4/18/21</td>\n",
       "      <td>2237089</td>\n",
       "      <td>66732</td>\n",
       "      <td>1785358</td>\n",
       "    </tr>\n",
       "    <tr>\n",
       "      <th>425</th>\n",
       "      <td>4/19/21</td>\n",
       "      <td>2261435</td>\n",
       "      <td>67130</td>\n",
       "      <td>1797319</td>\n",
       "    </tr>\n",
       "    <tr>\n",
       "      <th>426</th>\n",
       "      <td>4/20/21</td>\n",
       "      <td>2286927</td>\n",
       "      <td>67525</td>\n",
       "      <td>1810531</td>\n",
       "    </tr>\n",
       "    <tr>\n",
       "      <th>427</th>\n",
       "      <td>4/21/21</td>\n",
       "      <td>2311813</td>\n",
       "      <td>67913</td>\n",
       "      <td>1823958</td>\n",
       "    </tr>\n",
       "  </tbody>\n",
       "</table>\n",
       "</div>"
      ],
      "text/plain": [
       "        date Confirmed cases Associated death Recovered\n",
       "418  4/12/21         2093452            64764   1720084\n",
       "419  4/13/21         2118212            65055   1729293\n",
       "420  4/14/21         2143794            65359   1739002\n",
       "421  4/15/21         2168872            65680   1749041\n",
       "422  4/16/21         2194133            66008   1761497\n",
       "423  4/17/21         2215445            66327   1772688\n",
       "424  4/18/21         2237089            66732   1785358\n",
       "425  4/19/21         2261435            67130   1797319\n",
       "426  4/20/21         2286927            67525   1810531\n",
       "427  4/21/21         2311813            67913   1823958"
      ]
     },
     "execution_count": 3,
     "metadata": {},
     "output_type": "execute_result"
    }
   ],
   "source": [
    "df_iran.tail(10)"
   ]
  },
  {
   "cell_type": "code",
   "execution_count": 10,
   "metadata": {},
   "outputs": [
    {
     "data": {
      "image/png": "[encoded data removed]",
      "text/plain": [
       "<Figure size 432x288 with 1 Axes>"
      ]
     },
     "metadata": {
      "needs_background": "light"
     },
     "output_type": "display_data"
    }
   ],
   "source": [
    "styles1 = ['-','-.',':']\n",
    "\n",
    "df_iran.set_index('date').plot(style=styles1);\n",
    "plt.xticks(rotation='vertical')\n",
    "plt.title(\"Number of COVID-19 confirmed, death, and recovered cases in Iran\", y=1.08)\n",
    "plt.xlabel(\"February, 2020 - April, 2021\")\n",
    "plt.ylabel(\"Number of people\")\n",
    "plt.gcf().subplots_adjust(left=0.15, bottom=0.25)\n",
    "plt.savefig('iran_cases.pdf', format=\"pdf\", pad_inches=2)\n",
    "\n",
    "# plt.ticklabel_format(style='plain')\n",
    "\n",
    "plt.show()"
   ]
  },
  {
   "cell_type": "markdown",
   "metadata": {},
   "source": [
    "## Plotting original tweets"
   ]
  },
  {
   "cell_type": "code",
   "execution_count": 4,
   "metadata": {},
   "outputs": [
    {
     "data": {
      "image/png": "[encoded data removed]",
      "text/plain": [
       "<Figure size 432x288 with 1 Axes>"
      ]
     },
     "metadata": {
      "needs_background": "light"
     },
     "output_type": "display_data"
    }
   ],
   "source": [
    "x = df[1:len(df)-1]\n",
    "x.plot(x='created_at',y='count',color='blue')\n",
    "plt.title(\"Number of COVID-19 related original tweets in Persian/Farsi\")\n",
    "plt.xlabel(\"Day of month (March, 2020 - April, 2021)\")\n",
    "plt.ylabel(\"Number of tweets\")\n",
    "plt.gcf().subplots_adjust(bottom=0.25)\n",
    "\n",
    "# changing legend\n",
    "custom_lines = [Line2D([0], [0], color=\"blue\", lw=2)]\n",
    "plt.legend(custom_lines, ['Count'])\n",
    "plt.savefig('tweets_count.pdf', format=\"pdf\", pad_inches=2)\n",
    "plt.show()"
   ]
  }
 ],
 "metadata": {
  "kernelspec": {
   "display_name": "Python 3",
   "language": "python",
   "name": "python3"
  },
  "language_info": {
   "codemirror_mode": {
    "name": "ipython",
    "version": 3
   },
   "file_extension": ".py",
   "mimetype": "text/x-python",
   "name": "python",
   "nbconvert_exporter": "python",
   "pygments_lexer": "ipython3",
   "version": "3.7.9"
  }
 },
 "nbformat": 4,
 "nbformat_minor": 4
}
