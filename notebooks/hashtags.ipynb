{
 "cells": [
  {
   "cell_type": "markdown",
   "metadata": {},
   "source": [
    "## Persian COVID-19 related twitter hashtags\n",
    "In this notebook, we list and process COVID-19 related hashtags in Persian tweets."
   ]
  },
  {
   "cell_type": "code",
   "execution_count": 1,
   "metadata": {},
   "outputs": [],
   "source": [
    "import os\n",
    "import sys\n",
    "\n",
    "# adding classes folder to system path\n",
    "sys.path.insert(0, os.path.abspath('..') + '/classes')\n",
    "\n",
    "from data_utils import get_hashtags"
   ]
  },
  {
   "cell_type": "code",
   "execution_count": 2,
   "metadata": {},
   "outputs": [],
   "source": [
    "tags = get_hashtags()\n",
    "a = []\n",
    "for k, v in tags.items():\n",
    "    a.append(k.replace('\\n','').replace('\\r', '').replace('#', '').strip())"
   ]
  },
  {
   "cell_type": "code",
   "execution_count": 3,
   "metadata": {},
   "outputs": [
    {
     "data": {
      "text/plain": [
       "['Coronavirus',\n",
       " 'coronavirus',\n",
       " 'COVID19',\n",
       " 'COVIDー19',\n",
       " 'AyatollahsSpreadCOVID19',\n",
       " 'کرونا',\n",
       " 'کورونا',\n",
       " 'کووید۱۹',\n",
       " 'قرنطینه',\n",
       " 'کووید_۱۹',\n",
       " 'کروناویروس',\n",
       " 'کارزار_کرونا',\n",
       " 'قرنطینه_خانگی',\n",
       " 'در_خانه_بمانیم',\n",
       " 'کرونا_از_آمریکا',\n",
       " 'ويروس_چينى',\n",
       " 'کرونا_ویروس',\n",
       " 'ویروس_کورونا',\n",
       " 'کورونا_ویروس',\n",
       " 'کرونا_در_ایران',\n",
       " 'تيك_تاك_سرنگوني',\n",
       " 'کرونا_را_جدی_بگیریم',\n",
       " 'کادر_درمان_را_دریابید',\n",
       " 'کادر_درمان_را_تجهیز_کنید',\n",
       " 'کادر_درمانی_سپر_انسانی_نیست',\n",
       " 'به_داد_کادر_درمان_برسید',\n",
       " 'کرونا_را_شکست_میدهیم',\n",
       " 'تجهیز_کادر_درمانی',\n",
       " 'سپاه_عامل_کرونا',\n",
       " 'کرونا_در_زندان',\n",
       " 'کرونادرایران',\n",
       " 'ویروس_کرونا']"
      ]
     },
     "execution_count": 3,
     "metadata": {},
     "output_type": "execute_result"
    }
   ],
   "source": [
    "a"
   ]
  },
  {
   "cell_type": "code",
   "execution_count": 4,
   "metadata": {},
   "outputs": [
    {
     "name": "stdout",
     "output_type": "stream",
     "text": [
      "Coronavirus,coronavirus,COVID19,COVIDー19,AyatollahsSpreadCOVID19,کرونا,کورونا,کووید۱۹,قرنطینه,کووید_۱۹,کروناویروس,کارزار_کرونا,قرنطینه_خانگی,در_خانه_بمانیم,کرونا_از_آمریکا,ويروس_چينى,کرونا_ویروس,ویروس_کورونا,کورونا_ویروس,کرونا_در_ایران,تيك_تاك_سرنگوني,کرونا_را_جدی_بگیریم,کادر_درمان_را_دریابید,کادر_درمان_را_تجهیز_کنید,کادر_درمانی_سپر_انسانی_نیست,به_داد_کادر_درمان_برسید,کرونا_را_شکست_میدهیم,تجهیز_کادر_درمانی,سپاه_عامل_کرونا,کرونا_در_زندان,کرونادرایران,ویروس_کرونا\n"
     ]
    }
   ],
   "source": [
    "res = \"\"\n",
    "for i in range(len(a)):\n",
    "    if i != len(a) - 1:\n",
    "        res = res + a[i] + \",\"\n",
    "    else:\n",
    "        res = res + a[i]\n",
    "with open(os.path.abspath('..') + \"/data/tags.txt\",\"w+\") as file:\n",
    "    file.write(res)\n",
    "print(res)"
   ]
  },
  {
   "cell_type": "code",
   "execution_count": null,
   "metadata": {},
   "outputs": [],
   "source": []
  }
 ],
 "metadata": {
  "kernelspec": {
   "display_name": "Python 3",
   "language": "python",
   "name": "python3"
  },
  "language_info": {
   "codemirror_mode": {
    "name": "ipython",
    "version": 3
   },
   "file_extension": ".py",
   "mimetype": "text/x-python",
   "name": "python",
   "nbconvert_exporter": "python",
   "pygments_lexer": "ipython3",
   "version": "3.7.6"
  }
 },
 "nbformat": 4,
 "nbformat_minor": 2
}
