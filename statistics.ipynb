{
 "cells": [
  {
   "cell_type": "markdown",
   "metadata": {},
   "source": [
    "## Statistics"
   ]
  },
  {
   "cell_type": "code",
   "execution_count": 1,
   "metadata": {},
   "outputs": [],
   "source": [
    "import pandas as pd\n",
    "import matplotlib.pyplot as plt\n",
    "\n",
    "from matplotlib.lines import Line2D\n",
    "from data_utils import tweets_count_by_day"
   ]
  },
  {
   "cell_type": "code",
   "execution_count": 2,
   "metadata": {},
   "outputs": [],
   "source": [
    "df = tweets_count_by_day()"
   ]
  },
  {
   "cell_type": "code",
   "execution_count": 7,
   "metadata": {},
   "outputs": [
    {
     "data": {
      "text/html": [
       "<div>\n",
       "<style scoped>\n",
       "    .dataframe tbody tr th:only-of-type {\n",
       "        vertical-align: middle;\n",
       "    }\n",
       "\n",
       "    .dataframe tbody tr th {\n",
       "        vertical-align: top;\n",
       "    }\n",
       "\n",
       "    .dataframe thead th {\n",
       "        text-align: right;\n",
       "    }\n",
       "</style>\n",
       "<table border=\"1\" class=\"dataframe\">\n",
       "  <thead>\n",
       "    <tr style=\"text-align: right;\">\n",
       "      <th></th>\n",
       "      <th>created_at</th>\n",
       "      <th>count</th>\n",
       "    </tr>\n",
       "  </thead>\n",
       "  <tbody>\n",
       "    <tr>\n",
       "      <th>0</th>\n",
       "      <td>2020-03-12</td>\n",
       "      <td>4429</td>\n",
       "    </tr>\n",
       "    <tr>\n",
       "      <th>1</th>\n",
       "      <td>2020-03-13</td>\n",
       "      <td>22260</td>\n",
       "    </tr>\n",
       "    <tr>\n",
       "      <th>2</th>\n",
       "      <td>2020-03-14</td>\n",
       "      <td>21277</td>\n",
       "    </tr>\n",
       "    <tr>\n",
       "      <th>3</th>\n",
       "      <td>2020-03-15</td>\n",
       "      <td>20324</td>\n",
       "    </tr>\n",
       "    <tr>\n",
       "      <th>4</th>\n",
       "      <td>2020-03-16</td>\n",
       "      <td>20064</td>\n",
       "    </tr>\n",
       "    <tr>\n",
       "      <th>5</th>\n",
       "      <td>2020-03-17</td>\n",
       "      <td>17435</td>\n",
       "    </tr>\n",
       "    <tr>\n",
       "      <th>6</th>\n",
       "      <td>2020-03-18</td>\n",
       "      <td>15905</td>\n",
       "    </tr>\n",
       "    <tr>\n",
       "      <th>7</th>\n",
       "      <td>2020-03-19</td>\n",
       "      <td>14320</td>\n",
       "    </tr>\n",
       "    <tr>\n",
       "      <th>8</th>\n",
       "      <td>2020-03-20</td>\n",
       "      <td>10600</td>\n",
       "    </tr>\n",
       "    <tr>\n",
       "      <th>9</th>\n",
       "      <td>2020-03-21</td>\n",
       "      <td>13395</td>\n",
       "    </tr>\n",
       "  </tbody>\n",
       "</table>\n",
       "</div>"
      ],
      "text/plain": [
       "  created_at  count\n",
       "0 2020-03-12   4429\n",
       "1 2020-03-13  22260\n",
       "2 2020-03-14  21277\n",
       "3 2020-03-15  20324\n",
       "4 2020-03-16  20064\n",
       "5 2020-03-17  17435\n",
       "6 2020-03-18  15905\n",
       "7 2020-03-19  14320\n",
       "8 2020-03-20  10600\n",
       "9 2020-03-21  13395"
      ]
     },
     "execution_count": 7,
     "metadata": {},
     "output_type": "execute_result"
    }
   ],
   "source": [
    "df.head(10)"
   ]
  },
  {
   "cell_type": "code",
   "execution_count": 8,
   "metadata": {},
   "outputs": [],
   "source": [
    "cols = [\"date\", \"Confirmed cases\", \"Associated death\", \"Recovered\"]\n",
    "df_iran = pd.DataFrame(columns=cols)\n",
    "\n",
    "data_iran = [\n",
    "[\"03-13\", \"11364\", \"514\", \"3529\"],\n",
    "[\"03-14\", \"12729\", \"611\", \"4339\"],\n",
    "[\"03-15\", \"13938\", \"724\", \"4590\"],\n",
    "[\"03-16\", \"14991\", \"853\", \"4996\"],\n",
    "[\"03-17\", \"16169\", \"988\", \"5389\"],\n",
    "[\"03-18\", \"17361\", \"1135\", \"5710\"],\n",
    "[\"03-19\", \"18407\", \"1284\", \"5710\"],\n",
    "[\"03-20\", \"19644\", \"1433\", \"6745\"],\n",
    "[\"03-21\", \"20610\", \"1556\", \"7635\"],\n",
    "[\"03-22\", \"21638\", \"1685\", \"7635\"],\n",
    "[\"03-23\", \"23049\", \"1812\", \"8376\"],\n",
    "[\"03-24\", \"24811\", \"1934\", \"8931\"],\n",
    "[\"03-25\", \"27017\", \"2077\", \"9625\"],\n",
    "[\"03-26\", \"29406\", \"2234\", \"10457\"],\n",
    "[\"03-27\", \"32332\", \"2378\", \"11133\"],      \n",
    "[\"03-28\", \"35408\", \"2517\", \"11679\"],\n",
    "[\"03-29\", \"38309\", \"2640\", \"12391\"],\n",
    "[\"03-30\", \"41495\", \"2757\", \"13911\"],\n",
    "[\"03-31\", \"44605\", \"2898\", \"14656\"],\n",
    "[\"04-01\", \"47593\", \"3036\", \"15473\"],\n",
    "[\"04-02\", \"50468\", \"3160\", \"16711\"],\n",
    "[\"04-03\", \"53183\", \"3294\", \"17935\"],\n",
    "[\"04-04\", \"55743\", \"3452\", \"19736\"],\n",
    "[\"04-05\", \"58226\", \"3603\", \"22011\"]]\n",
    "\n",
    "for record in data_iran:\n",
    "    df_iran = df_iran.append({\"date\": record[0], \"Confirmed cases\": int(record[1]), \"Associated death\": int(record[2]), \"Recovered\": int(record[3])}, ignore_index=True)"
   ]
  },
  {
   "cell_type": "code",
   "execution_count": 9,
   "metadata": {},
   "outputs": [
    {
     "data": {
      "text/html": [
       "<div>\n",
       "<style scoped>\n",
       "    .dataframe tbody tr th:only-of-type {\n",
       "        vertical-align: middle;\n",
       "    }\n",
       "\n",
       "    .dataframe tbody tr th {\n",
       "        vertical-align: top;\n",
       "    }\n",
       "\n",
       "    .dataframe thead th {\n",
       "        text-align: right;\n",
       "    }\n",
       "</style>\n",
       "<table border=\"1\" class=\"dataframe\">\n",
       "  <thead>\n",
       "    <tr style=\"text-align: right;\">\n",
       "      <th></th>\n",
       "      <th>date</th>\n",
       "      <th>Confirmed cases</th>\n",
       "      <th>Associated death</th>\n",
       "      <th>Recovered</th>\n",
       "    </tr>\n",
       "  </thead>\n",
       "  <tbody>\n",
       "    <tr>\n",
       "      <th>0</th>\n",
       "      <td>03-13</td>\n",
       "      <td>11364</td>\n",
       "      <td>514</td>\n",
       "      <td>3529</td>\n",
       "    </tr>\n",
       "    <tr>\n",
       "      <th>1</th>\n",
       "      <td>03-14</td>\n",
       "      <td>12729</td>\n",
       "      <td>611</td>\n",
       "      <td>4339</td>\n",
       "    </tr>\n",
       "    <tr>\n",
       "      <th>2</th>\n",
       "      <td>03-15</td>\n",
       "      <td>13938</td>\n",
       "      <td>724</td>\n",
       "      <td>4590</td>\n",
       "    </tr>\n",
       "    <tr>\n",
       "      <th>3</th>\n",
       "      <td>03-16</td>\n",
       "      <td>14991</td>\n",
       "      <td>853</td>\n",
       "      <td>4996</td>\n",
       "    </tr>\n",
       "    <tr>\n",
       "      <th>4</th>\n",
       "      <td>03-17</td>\n",
       "      <td>16169</td>\n",
       "      <td>988</td>\n",
       "      <td>5389</td>\n",
       "    </tr>\n",
       "    <tr>\n",
       "      <th>5</th>\n",
       "      <td>03-18</td>\n",
       "      <td>17361</td>\n",
       "      <td>1135</td>\n",
       "      <td>5710</td>\n",
       "    </tr>\n",
       "    <tr>\n",
       "      <th>6</th>\n",
       "      <td>03-19</td>\n",
       "      <td>18407</td>\n",
       "      <td>1284</td>\n",
       "      <td>5710</td>\n",
       "    </tr>\n",
       "    <tr>\n",
       "      <th>7</th>\n",
       "      <td>03-20</td>\n",
       "      <td>19644</td>\n",
       "      <td>1433</td>\n",
       "      <td>6745</td>\n",
       "    </tr>\n",
       "    <tr>\n",
       "      <th>8</th>\n",
       "      <td>03-21</td>\n",
       "      <td>20610</td>\n",
       "      <td>1556</td>\n",
       "      <td>7635</td>\n",
       "    </tr>\n",
       "    <tr>\n",
       "      <th>9</th>\n",
       "      <td>03-22</td>\n",
       "      <td>21638</td>\n",
       "      <td>1685</td>\n",
       "      <td>7635</td>\n",
       "    </tr>\n",
       "  </tbody>\n",
       "</table>\n",
       "</div>"
      ],
      "text/plain": [
       "    date Confirmed cases Associated death Recovered\n",
       "0  03-13           11364              514      3529\n",
       "1  03-14           12729              611      4339\n",
       "2  03-15           13938              724      4590\n",
       "3  03-16           14991              853      4996\n",
       "4  03-17           16169              988      5389\n",
       "5  03-18           17361             1135      5710\n",
       "6  03-19           18407             1284      5710\n",
       "7  03-20           19644             1433      6745\n",
       "8  03-21           20610             1556      7635\n",
       "9  03-22           21638             1685      7635"
      ]
     },
     "execution_count": 9,
     "metadata": {},
     "output_type": "execute_result"
    }
   ],
   "source": [
    "df_iran.head(10)"
   ]
  },
  {
   "cell_type": "code",
   "execution_count": 12,
   "metadata": {},
   "outputs": [
    {
     "data": {
      "image/png": "[encoded data removed]",
      "text/plain": [
       "<Figure size 432x288 with 1 Axes>"
      ]
     },
     "metadata": {
      "needs_background": "light"
     },
     "output_type": "display_data"
    }
   ],
   "source": [
    "df_iran.set_index('date').plot();\n",
    "plt.xticks(rotation='vertical')\n",
    "plt.title(\"Official number of COVID-19 confirmed, death, and recovered cases\")\n",
    "plt.xlabel(\"Day of month (March 13th 2020 - April 5th 2020)\")\n",
    "plt.ylabel(\"Number of people\")\n",
    "plt.gcf().subplots_adjust(bottom=0.2)\n",
    "plt.savefig('iran_statistics.pdf', format=\"pdf\", pad_inches=2)\n",
    "plt.show()"
   ]
  },
  {
   "cell_type": "code",
   "execution_count": 13,
   "metadata": {},
   "outputs": [
    {
     "data": {
      "image/png": "[encoded data removed]",
      "text/plain": [
       "<Figure size 432x288 with 1 Axes>"
      ]
     },
     "metadata": {
      "needs_background": "light"
     },
     "output_type": "display_data"
    }
   ],
   "source": [
    "x = df[1:len(df)-1]\n",
    "x.plot(x='created_at',y='count',color='blue')\n",
    "plt.title(\"Number of COVID-19 related Persian Tweets\")\n",
    "plt.xlabel(\"Day of month (March 13th 2020 - April 3rd 2020)\")\n",
    "plt.ylabel(\"Number of original tweets\")\n",
    "plt.gcf().subplots_adjust(bottom=0.2)\n",
    "\n",
    "# changing legend\n",
    "custom_lines = [Line2D([0], [0], color=\"blue\", lw=2)]\n",
    "plt.legend(custom_lines, ['Count'])\n",
    "plt.savefig('tweets_count.pdf', format=\"pdf\", pad_inches=2)\n",
    "plt.show()"
   ]
  },
  {
   "cell_type": "code",
   "execution_count": null,
   "metadata": {},
   "outputs": [],
   "source": []
  }
 ],
 "metadata": {
  "kernelspec": {
   "display_name": "Python 3",
   "language": "python",
   "name": "python3"
  },
  "language_info": {
   "codemirror_mode": {
    "name": "ipython",
    "version": 3
   },
   "file_extension": ".py",
   "mimetype": "text/x-python",
   "name": "python",
   "nbconvert_exporter": "python",
   "pygments_lexer": "ipython3",
   "version": "3.7.6"
  }
 },
 "nbformat": 4,
 "nbformat_minor": 4
}
