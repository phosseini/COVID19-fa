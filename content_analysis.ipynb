{
 "cells": [
  {
   "cell_type": "markdown",
   "metadata": {},
   "source": [
    "## Content Analysis of tweets\n",
    "In this notebook, we process the annotations of sampled tweets to find the distribution of different types of content among COVID-19 related Persian tweets. We're annotating more tweets and these are some preliminary results."
   ]
  },
  {
   "cell_type": "code",
   "execution_count": 20,
   "metadata": {},
   "outputs": [],
   "source": [
    "import numpy as np\n",
    "import pandas as pd\n",
    "\n",
    "from sklearn.metrics import cohen_kappa_score"
   ]
  },
  {
   "cell_type": "code",
   "execution_count": 2,
   "metadata": {},
   "outputs": [],
   "source": [
    "root = \"data/\"\n",
    "data = pd.read_excel(root + \"doc_clusters.xlsx\")"
   ]
  },
  {
   "cell_type": "code",
   "execution_count": 3,
   "metadata": {},
   "outputs": [
    {
     "name": "stdout",
     "output_type": "stream",
     "text": [
      "{4: 0.46084803466419066, 7: 0.15183269222266438, 2: 0.09875315028518371, 6: 0.08776583985497635, 3: 0.08734580183048149, 1: 0.0387098200468674, 5: 0.037936065791219, 0: 0.03680859530441703}\n"
     ]
    }
   ],
   "source": [
    "total_tweets_count = 45234\n",
    "n_cluster = len(data.cluster.value_counts())\n",
    "cluster_w = {}\n",
    "for index, value in data.cluster.value_counts().items():\n",
    "    cluster_w[index] = (value / total_tweets_count)\n",
    "print(cluster_w)"
   ]
  },
  {
   "cell_type": "code",
   "execution_count": 4,
   "metadata": {},
   "outputs": [
    {
     "name": "stdout",
     "output_type": "stream",
     "text": [
      "['news' 'neutral' 'satire' 'opinion' 'complaint' 'solution']\n",
      "['solution' 'opinion' 'satire' 'news' 'complaint' 'neutral']\n"
     ]
    }
   ],
   "source": [
    "# reading annotations\n",
    "ann_1 = pd.read_excel(root + \"annotation/ann1.xlsx\")\n",
    "ann_2 = pd.read_excel(root + \"annotation/ann2.xlsx\")\n",
    "\n",
    "# normalizing labels\n",
    "ann_2.loc[ann_2['label'] == 'blame', 'label'] = \"complaint\"\n",
    "ann_1.loc[ann_1['label'] == 'sarcasm', 'label'] = \"satire\"\n",
    "ann_1.loc[ann_1['label'] == 'report', 'label'] = \"news\"\n",
    "ann_1.loc[ann_1['label'] == 'rumor', 'label'] = \"news\"\n",
    "\n",
    "print(ann_1[\"label\"].unique())\n",
    "print(ann_2[\"label\"].unique())\n",
    "\n",
    "# generating merged annotation file\n",
    "dis = pd.concat([ann_1[\"doc\"], ann_1[\"label\"], ann_2[\"label\"]], axis=1)\n",
    "dis.to_excel(\"data/dis.xlsx\")"
   ]
  },
  {
   "cell_type": "markdown",
   "metadata": {},
   "source": [
    "### Inter-Annotator agreement"
   ]
  },
  {
   "cell_type": "code",
   "execution_count": 11,
   "metadata": {},
   "outputs": [
    {
     "name": "stdout",
     "output_type": "stream",
     "text": [
      "agreement: 0.4662713120830245\n"
     ]
    }
   ],
   "source": [
    "ann_data = pd.read_excel(root + \"annotation/final.xlsx\")\n",
    "\n",
    "ann_1 = ann_data['ann1']\n",
    "ann_2 = ann_data['ann2']\n",
    "ann_final = ann_data['final']\n",
    "\n",
    "assert len(ann_1) == len(ann_2)\n",
    "\n",
    "# Cohen Kappa\n",
    "print(\"agreement: {}\".format(cohen_kappa_score(ann_1, ann_2)))"
   ]
  },
  {
   "cell_type": "markdown",
   "metadata": {},
   "source": [
    "### Category distribution"
   ]
  },
  {
   "cell_type": "code",
   "execution_count": 23,
   "metadata": {},
   "outputs": [],
   "source": [
    "cluster_size = 30\n",
    "\n",
    "final_w = {\"satire\": 0, \"news\": 0, \"opinion\": 0, \"complaint\": 0, \"solution\": 0, \"neutral\": 0}\n",
    "labels = {\"satire\": 0, \"news\": 0, \"opinion\": 0, \"complaint\": 0, \"solution\": 0, \"neutral\": 0}\n",
    "\n",
    "for i in range(len(ann_final)):\n",
    "    if i % cluster_size != 0:\n",
    "        # if there was a disagreement, final is not empty\n",
    "        if str(ann_final.iloc[i]) != \"nan\":\n",
    "            labels[ann_final.iloc[i]] += 1\n",
    "        else:\n",
    "            # if there's an agreement, no difference between ann_1 and ann_2\n",
    "            labels[ann_1.iloc[i]] += 1\n",
    "    else:\n",
    "        for i in range(n_cluster):\n",
    "            for key, value in labels.items():\n",
    "                final_w[key] += (value / cluster_size) * cluster_w[i]\n",
    "        \n",
    "        # set for the new cluster\n",
    "        labels = {\"satire\": 0, \"news\": 0, \"opinion\": 0, \"complaint\": 0, \"solution\": 0, \"neutral\": 0}"
   ]
  },
  {
   "cell_type": "code",
   "execution_count": 24,
   "metadata": {},
   "outputs": [
    {
     "data": {
      "text/plain": [
       "{'satire': 1.9,\n",
       " 'news': 1.5999999999999996,\n",
       " 'opinion': 1.2333333333333332,\n",
       " 'complaint': 1.1666666666666665,\n",
       " 'solution': 0.49999999999999994,\n",
       " 'neutral': 0.36666666666666664}"
      ]
     },
     "execution_count": 24,
     "metadata": {},
     "output_type": "execute_result"
    }
   ],
   "source": [
    "final_w"
   ]
  },
  {
   "cell_type": "code",
   "execution_count": 32,
   "metadata": {},
   "outputs": [],
   "source": [
    "from math import pi\n",
    "\n",
    "import pandas as pd\n",
    "\n",
    "from bokeh.io import output_file, show\n",
    "from bokeh.palettes import Category20c\n",
    "from bokeh.plotting import figure\n",
    "from bokeh.transform import cumsum\n",
    "\n",
    "#output_file(\"pie.html\")\n",
    "\n",
    "data = pd.Series(final_w).reset_index(name='value').rename(columns={'index':'category'})\n",
    "data['angle'] = data['value']/data['value'].sum() * 2*pi\n",
    "data['color'] = Category20c[len(final_w)]\n",
    "\n",
    "p = figure(plot_height=350, title=\"Pie Chart\", toolbar_location=None,\n",
    "           tools=\"hover\", tooltips=\"@category: @value\", x_range=(-0.5, 1.0))\n",
    "\n",
    "p.wedge(x=0, y=1, radius=0.4,\n",
    "        start_angle=cumsum('angle', include_zero=True), end_angle=cumsum('angle'),\n",
    "        line_color=\"white\", fill_color='color', legend_field='category', source=data)\n",
    "\n",
    "p.axis.axis_label=None\n",
    "p.axis.visible=False\n",
    "p.grid.grid_line_color = None\n",
    "\n",
    "show(p)"
   ]
  },
  {
   "cell_type": "code",
   "execution_count": null,
   "metadata": {},
   "outputs": [],
   "source": []
  }
 ],
 "metadata": {
  "kernelspec": {
   "display_name": "Python 3",
   "language": "python",
   "name": "python3"
  },
  "language_info": {
   "codemirror_mode": {
    "name": "ipython",
    "version": 3
   },
   "file_extension": ".py",
   "mimetype": "text/x-python",
   "name": "python",
   "nbconvert_exporter": "python",
   "pygments_lexer": "ipython3",
   "version": "3.7.6"
  }
 },
 "nbformat": 4,
 "nbformat_minor": 4
}
