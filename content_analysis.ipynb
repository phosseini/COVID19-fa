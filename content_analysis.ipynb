{
 "cells": [
  {
   "cell_type": "markdown",
   "metadata": {},
   "source": [
    "## Content Analysis of tweets\n",
    "In this notebook, we process the annotations of sampled tweets to find the distribution of different types of content among COVID-19 related Persian tweets. We're annotating more tweets and these are some preliminary results."
   ]
  },
  {
   "cell_type": "code",
   "execution_count": 1,
   "metadata": {},
   "outputs": [],
   "source": [
    "import pandas as pd"
   ]
  },
  {
   "cell_type": "code",
   "execution_count": 2,
   "metadata": {},
   "outputs": [],
   "source": [
    "root = \"data/\"\n",
    "data = pd.read_excel(root + \"doc_clusters.xlsx\")"
   ]
  },
  {
   "cell_type": "code",
   "execution_count": 3,
   "metadata": {},
   "outputs": [
    {
     "name": "stdout",
     "output_type": "stream",
     "text": [
      "{4: 0.46084803466419066, 7: 0.15183269222266438, 2: 0.09875315028518371, 6: 0.08776583985497635, 3: 0.08734580183048149, 1: 0.0387098200468674, 5: 0.037936065791219, 0: 0.03680859530441703}\n"
     ]
    }
   ],
   "source": [
    "n_cluster = len(data.cluster.value_counts())\n",
    "cluster_w = {}\n",
    "for index, value in data.cluster.value_counts().items():\n",
    "    cluster_w[index] = (value / 45234)\n",
    "print(cluster_w)"
   ]
  },
  {
   "cell_type": "code",
   "execution_count": 4,
   "metadata": {},
   "outputs": [],
   "source": [
    "ann_1 = pd.read_excel(root + \"annotation/ann1.xlsx\")\n",
    "ann_2 = pd.read_excel(root + \"annotation/ann2.xlsx\")"
   ]
  },
  {
   "cell_type": "code",
   "execution_count": 5,
   "metadata": {},
   "outputs": [],
   "source": [
    "# normalizing labels\n",
    "ann_2.loc[ann_2['label'] == 'blame', 'label'] = \"complaint\"\n",
    "ann_1.loc[ann_1['label'] == 'sarcasm', 'label'] = \"satire\"\n",
    "ann_1.loc[ann_1['label'] == 'report', 'label'] = \"news\""
   ]
  },
  {
   "cell_type": "markdown",
   "metadata": {},
   "source": [
    "### Inter-Annotator agreement"
   ]
  },
  {
   "cell_type": "code",
   "execution_count": 12,
   "metadata": {},
   "outputs": [
    {
     "name": "stdout",
     "output_type": "stream",
     "text": [
      "Inter-rater agreement: 0.575\n"
     ]
    }
   ],
   "source": [
    "assert len(ann_1) == len(ann_2)\n",
    "inter_df = pd.concat([ann_1['label'], ann_2['label']], axis=1, sort=False)\n",
    "agreement = 0\n",
    "for index, row in inter_df.iterrows():\n",
    "    if row[0] == row[1]:\n",
    "        agreement += 1\n",
    "print(\"Inter-rater agreement: {}\".format(agreement/len(ann_1)))"
   ]
  },
  {
   "cell_type": "code",
   "execution_count": 13,
   "metadata": {},
   "outputs": [
    {
     "data": {
      "text/html": [
       "<div>\n",
       "<style scoped>\n",
       "    .dataframe tbody tr th:only-of-type {\n",
       "        vertical-align: middle;\n",
       "    }\n",
       "\n",
       "    .dataframe tbody tr th {\n",
       "        vertical-align: top;\n",
       "    }\n",
       "\n",
       "    .dataframe thead th {\n",
       "        text-align: right;\n",
       "    }\n",
       "</style>\n",
       "<table border=\"1\" class=\"dataframe\">\n",
       "  <thead>\n",
       "    <tr style=\"text-align: right;\">\n",
       "      <th></th>\n",
       "      <th>label</th>\n",
       "      <th>label</th>\n",
       "    </tr>\n",
       "  </thead>\n",
       "  <tbody>\n",
       "    <tr>\n",
       "      <th>0</th>\n",
       "      <td>news</td>\n",
       "      <td>solution</td>\n",
       "    </tr>\n",
       "    <tr>\n",
       "      <th>1</th>\n",
       "      <td>neutral</td>\n",
       "      <td>opinion</td>\n",
       "    </tr>\n",
       "    <tr>\n",
       "      <th>2</th>\n",
       "      <td>satire</td>\n",
       "      <td>satire</td>\n",
       "    </tr>\n",
       "    <tr>\n",
       "      <th>3</th>\n",
       "      <td>satire</td>\n",
       "      <td>satire</td>\n",
       "    </tr>\n",
       "    <tr>\n",
       "      <th>4</th>\n",
       "      <td>rumor</td>\n",
       "      <td>news</td>\n",
       "    </tr>\n",
       "    <tr>\n",
       "      <th>...</th>\n",
       "      <td>...</td>\n",
       "      <td>...</td>\n",
       "    </tr>\n",
       "    <tr>\n",
       "      <th>235</th>\n",
       "      <td>opinion</td>\n",
       "      <td>news</td>\n",
       "    </tr>\n",
       "    <tr>\n",
       "      <th>236</th>\n",
       "      <td>news</td>\n",
       "      <td>news</td>\n",
       "    </tr>\n",
       "    <tr>\n",
       "      <th>237</th>\n",
       "      <td>opinion</td>\n",
       "      <td>complaint</td>\n",
       "    </tr>\n",
       "    <tr>\n",
       "      <th>238</th>\n",
       "      <td>complaint</td>\n",
       "      <td>complaint</td>\n",
       "    </tr>\n",
       "    <tr>\n",
       "      <th>239</th>\n",
       "      <td>opinion</td>\n",
       "      <td>satire</td>\n",
       "    </tr>\n",
       "  </tbody>\n",
       "</table>\n",
       "<p>240 rows × 2 columns</p>\n",
       "</div>"
      ],
      "text/plain": [
       "         label      label\n",
       "0         news   solution\n",
       "1      neutral    opinion\n",
       "2       satire     satire\n",
       "3       satire     satire\n",
       "4        rumor       news\n",
       "..         ...        ...\n",
       "235    opinion       news\n",
       "236       news       news\n",
       "237    opinion  complaint\n",
       "238  complaint  complaint\n",
       "239    opinion     satire\n",
       "\n",
       "[240 rows x 2 columns]"
      ]
     },
     "execution_count": 13,
     "metadata": {},
     "output_type": "execute_result"
    }
   ],
   "source": [
    "inter_df"
   ]
  },
  {
   "cell_type": "markdown",
   "metadata": {},
   "source": [
    "### Category distribution"
   ]
  },
  {
   "cell_type": "code",
   "execution_count": 18,
   "metadata": {},
   "outputs": [],
   "source": [
    "final_w = {\"satire\": 0, \"news\": 0, \"opinion\": 0, \"complaint\": 0, \"solution\": 0, \"other\": 0}\n",
    "for i in range(n_cluster):\n",
    "    labels = {\"satire\": 0, \"news\": 0, \"opinion\": 0, \"complaint\": 0, \"solution\": 0, \"other\": 0}\n",
    "    # annotator #1\n",
    "    for index, row in ann_1.iterrows():\n",
    "        if row[\"label\"] in labels:\n",
    "            labels[row[\"label\"]] += 1\n",
    "        else:\n",
    "            labels[\"other\"] += 1\n",
    "\n",
    "    # annotator #2\n",
    "    for index, row in ann_2.iterrows():\n",
    "        if row[\"label\"] in labels:\n",
    "            labels[row[\"label\"]] += 1\n",
    "        else:\n",
    "            labels[\"other\"] += 1\n",
    "\n",
    "    for key, value in labels.items():\n",
    "        final_w[key] += (value / 60) * cluster_w[i]"
   ]
  },
  {
   "cell_type": "code",
   "execution_count": 19,
   "metadata": {},
   "outputs": [
    {
     "data": {
      "text/plain": [
       "{'satire': 1.7166666666666666,\n",
       " 'news': 2.1666666666666665,\n",
       " 'opinion': 2.35,\n",
       " 'complaint': 0.8833333333333333,\n",
       " 'solution': 0.5833333333333334,\n",
       " 'other': 0.30000000000000004}"
      ]
     },
     "execution_count": 19,
     "metadata": {},
     "output_type": "execute_result"
    }
   ],
   "source": [
    "final_w"
   ]
  },
  {
   "cell_type": "code",
   "execution_count": null,
   "metadata": {},
   "outputs": [],
   "source": []
  }
 ],
 "metadata": {
  "kernelspec": {
   "display_name": "Python 3",
   "language": "python",
   "name": "python3"
  },
  "language_info": {
   "codemirror_mode": {
    "name": "ipython",
    "version": 3
   },
   "file_extension": ".py",
   "mimetype": "text/x-python",
   "name": "python",
   "nbconvert_exporter": "python",
   "pygments_lexer": "ipython3",
   "version": "3.7.6"
  }
 },
 "nbformat": 4,
 "nbformat_minor": 4
}
